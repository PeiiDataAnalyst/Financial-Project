{
 "cells": [
  {
   "cell_type": "code",
   "execution_count": 4,
   "id": "f31b9f21",
   "metadata": {},
   "outputs": [],
   "source": [
    "import numpy as np\n",
    "import pandas as pd\n",
    "import matplotlib.pyplot as plt\n",
    "%matplotlib inline"
   ]
  },
  {
   "cell_type": "code",
   "execution_count": 5,
   "id": "9629ff93",
   "metadata": {},
   "outputs": [],
   "source": [
    "df = pd.read_excel('ETH_USDT.xlsx', index_col = 0, parse_dates =True)"
   ]
  },
  {
   "cell_type": "code",
   "execution_count": 129,
   "id": "632aafc6",
   "metadata": {},
   "outputs": [
    {
     "data": {
      "text/plain": [
       "(391, 13)"
      ]
     },
     "execution_count": 129,
     "metadata": {},
     "output_type": "execute_result"
    }
   ],
   "source": [
    "df.shape"
   ]
  },
  {
   "cell_type": "code",
   "execution_count": 8,
   "id": "fc500b24",
   "metadata": {},
   "outputs": [],
   "source": [
    "df.drop(columns = ['Volume', 'Unnamed: 7', 'Unnamed: 8', 'Unnamed: 9', 'Unnamed: 10', 'Unnamed: 11','Unnamed: 12', 'Unnamed: 13'], \n",
    "        inplace =True)"
   ]
  },
  {
   "cell_type": "code",
   "execution_count": 9,
   "id": "3e4c9b46",
   "metadata": {
    "scrolled": true
   },
   "outputs": [
    {
     "name": "stdout",
     "output_type": "stream",
     "text": [
      "<class 'pandas.core.frame.DataFrame'>\n",
      "DatetimeIndex: 391 entries, 2021-10-26 to 2020-09-26\n",
      "Data columns (total 5 columns):\n",
      " #   Column  Non-Null Count  Dtype  \n",
      "---  ------  --------------  -----  \n",
      " 0   price   391 non-null    float64\n",
      " 1   open    391 non-null    float64\n",
      " 2   high    391 non-null    float64\n",
      " 3   low     391 non-null    float64\n",
      " 4   change  391 non-null    float64\n",
      "dtypes: float64(5)\n",
      "memory usage: 18.3 KB\n"
     ]
    }
   ],
   "source": [
    "df.info()"
   ]
  },
  {
   "cell_type": "code",
   "execution_count": 10,
   "id": "a38cd4f0",
   "metadata": {},
   "outputs": [
    {
     "data": {
      "text/html": [
       "<div>\n",
       "<style scoped>\n",
       "    .dataframe tbody tr th:only-of-type {\n",
       "        vertical-align: middle;\n",
       "    }\n",
       "\n",
       "    .dataframe tbody tr th {\n",
       "        vertical-align: top;\n",
       "    }\n",
       "\n",
       "    .dataframe thead th {\n",
       "        text-align: right;\n",
       "    }\n",
       "</style>\n",
       "<table border=\"1\" class=\"dataframe\">\n",
       "  <thead>\n",
       "    <tr style=\"text-align: right;\">\n",
       "      <th></th>\n",
       "      <th>price</th>\n",
       "      <th>open</th>\n",
       "      <th>high</th>\n",
       "      <th>low</th>\n",
       "      <th>change</th>\n",
       "    </tr>\n",
       "    <tr>\n",
       "      <th>date</th>\n",
       "      <th></th>\n",
       "      <th></th>\n",
       "      <th></th>\n",
       "      <th></th>\n",
       "      <th></th>\n",
       "    </tr>\n",
       "  </thead>\n",
       "  <tbody>\n",
       "    <tr>\n",
       "      <th>2020-09-26</th>\n",
       "      <td>353.96</td>\n",
       "      <td>351.86</td>\n",
       "      <td>353.96</td>\n",
       "      <td>351.20</td>\n",
       "      <td>0.0060</td>\n",
       "    </tr>\n",
       "    <tr>\n",
       "      <th>2020-09-27</th>\n",
       "      <td>357.48</td>\n",
       "      <td>353.95</td>\n",
       "      <td>360.74</td>\n",
       "      <td>351.44</td>\n",
       "      <td>0.0099</td>\n",
       "    </tr>\n",
       "    <tr>\n",
       "      <th>2020-09-28</th>\n",
       "      <td>353.89</td>\n",
       "      <td>357.73</td>\n",
       "      <td>364.43</td>\n",
       "      <td>353.89</td>\n",
       "      <td>-0.0100</td>\n",
       "    </tr>\n",
       "    <tr>\n",
       "      <th>2020-09-29</th>\n",
       "      <td>359.82</td>\n",
       "      <td>353.99</td>\n",
       "      <td>359.82</td>\n",
       "      <td>353.35</td>\n",
       "      <td>0.0168</td>\n",
       "    </tr>\n",
       "    <tr>\n",
       "      <th>2020-09-30</th>\n",
       "      <td>359.78</td>\n",
       "      <td>359.81</td>\n",
       "      <td>359.81</td>\n",
       "      <td>355.27</td>\n",
       "      <td>-0.0001</td>\n",
       "    </tr>\n",
       "    <tr>\n",
       "      <th>...</th>\n",
       "      <td>...</td>\n",
       "      <td>...</td>\n",
       "      <td>...</td>\n",
       "      <td>...</td>\n",
       "      <td>...</td>\n",
       "    </tr>\n",
       "    <tr>\n",
       "      <th>2021-10-22</th>\n",
       "      <td>3970.90</td>\n",
       "      <td>4053.34</td>\n",
       "      <td>4163.97</td>\n",
       "      <td>3896.17</td>\n",
       "      <td>-0.0205</td>\n",
       "    </tr>\n",
       "    <tr>\n",
       "      <th>2021-10-23</th>\n",
       "      <td>4168.78</td>\n",
       "      <td>3971.49</td>\n",
       "      <td>4168.78</td>\n",
       "      <td>3938.36</td>\n",
       "      <td>0.0498</td>\n",
       "    </tr>\n",
       "    <tr>\n",
       "      <th>2021-10-24</th>\n",
       "      <td>4083.18</td>\n",
       "      <td>4171.99</td>\n",
       "      <td>4183.98</td>\n",
       "      <td>3965.55</td>\n",
       "      <td>-0.0205</td>\n",
       "    </tr>\n",
       "    <tr>\n",
       "      <th>2021-10-25</th>\n",
       "      <td>4220.35</td>\n",
       "      <td>4084.10</td>\n",
       "      <td>4235.25</td>\n",
       "      <td>4069.92</td>\n",
       "      <td>0.0336</td>\n",
       "    </tr>\n",
       "    <tr>\n",
       "      <th>2021-10-26</th>\n",
       "      <td>4219.39</td>\n",
       "      <td>4225.63</td>\n",
       "      <td>4256.31</td>\n",
       "      <td>4137.54</td>\n",
       "      <td>-0.0002</td>\n",
       "    </tr>\n",
       "  </tbody>\n",
       "</table>\n",
       "<p>391 rows × 5 columns</p>\n",
       "</div>"
      ],
      "text/plain": [
       "              price     open     high      low  change\n",
       "date                                                  \n",
       "2020-09-26   353.96   351.86   353.96   351.20  0.0060\n",
       "2020-09-27   357.48   353.95   360.74   351.44  0.0099\n",
       "2020-09-28   353.89   357.73   364.43   353.89 -0.0100\n",
       "2020-09-29   359.82   353.99   359.82   353.35  0.0168\n",
       "2020-09-30   359.78   359.81   359.81   355.27 -0.0001\n",
       "...             ...      ...      ...      ...     ...\n",
       "2021-10-22  3970.90  4053.34  4163.97  3896.17 -0.0205\n",
       "2021-10-23  4168.78  3971.49  4168.78  3938.36  0.0498\n",
       "2021-10-24  4083.18  4171.99  4183.98  3965.55 -0.0205\n",
       "2021-10-25  4220.35  4084.10  4235.25  4069.92  0.0336\n",
       "2021-10-26  4219.39  4225.63  4256.31  4137.54 -0.0002\n",
       "\n",
       "[391 rows x 5 columns]"
      ]
     },
     "execution_count": 10,
     "metadata": {},
     "output_type": "execute_result"
    }
   ],
   "source": [
    "df = df.sort_index()\n",
    "df"
   ]
  },
  {
   "cell_type": "code",
   "execution_count": 56,
   "id": "ac863e9d",
   "metadata": {
    "scrolled": true
   },
   "outputs": [
    {
     "data": {
      "text/html": [
       "<div>\n",
       "<style scoped>\n",
       "    .dataframe tbody tr th:only-of-type {\n",
       "        vertical-align: middle;\n",
       "    }\n",
       "\n",
       "    .dataframe tbody tr th {\n",
       "        vertical-align: top;\n",
       "    }\n",
       "\n",
       "    .dataframe thead th {\n",
       "        text-align: right;\n",
       "    }\n",
       "</style>\n",
       "<table border=\"1\" class=\"dataframe\">\n",
       "  <thead>\n",
       "    <tr style=\"text-align: right;\">\n",
       "      <th></th>\n",
       "      <th>price</th>\n",
       "      <th>open</th>\n",
       "      <th>high</th>\n",
       "      <th>low</th>\n",
       "      <th>change</th>\n",
       "    </tr>\n",
       "  </thead>\n",
       "  <tbody>\n",
       "    <tr>\n",
       "      <th>count</th>\n",
       "      <td>391.000000</td>\n",
       "      <td>391.000000</td>\n",
       "      <td>391.000000</td>\n",
       "      <td>391.000000</td>\n",
       "      <td>391.00000</td>\n",
       "    </tr>\n",
       "    <tr>\n",
       "      <th>mean</th>\n",
       "      <td>1985.662532</td>\n",
       "      <td>1976.730537</td>\n",
       "      <td>2041.885831</td>\n",
       "      <td>1916.083887</td>\n",
       "      <td>0.00795</td>\n",
       "    </tr>\n",
       "    <tr>\n",
       "      <th>std</th>\n",
       "      <td>1113.311176</td>\n",
       "      <td>1110.694074</td>\n",
       "      <td>1149.275091</td>\n",
       "      <td>1071.343201</td>\n",
       "      <td>0.05626</td>\n",
       "    </tr>\n",
       "    <tr>\n",
       "      <th>min</th>\n",
       "      <td>341.040000</td>\n",
       "      <td>341.040000</td>\n",
       "      <td>341.810000</td>\n",
       "      <td>337.420000</td>\n",
       "      <td>-0.27860</td>\n",
       "    </tr>\n",
       "    <tr>\n",
       "      <th>25%</th>\n",
       "      <td>994.195000</td>\n",
       "      <td>876.060000</td>\n",
       "      <td>1010.540000</td>\n",
       "      <td>856.220000</td>\n",
       "      <td>-0.02385</td>\n",
       "    </tr>\n",
       "    <tr>\n",
       "      <th>50%</th>\n",
       "      <td>1967.830000</td>\n",
       "      <td>1967.420000</td>\n",
       "      <td>2031.410000</td>\n",
       "      <td>1915.740000</td>\n",
       "      <td>0.00760</td>\n",
       "    </tr>\n",
       "    <tr>\n",
       "      <th>75%</th>\n",
       "      <td>2870.405000</td>\n",
       "      <td>2853.180000</td>\n",
       "      <td>2950.535000</td>\n",
       "      <td>2739.810000</td>\n",
       "      <td>0.03820</td>\n",
       "    </tr>\n",
       "    <tr>\n",
       "      <th>max</th>\n",
       "      <td>4220.350000</td>\n",
       "      <td>4225.630000</td>\n",
       "      <td>4365.700000</td>\n",
       "      <td>4137.540000</td>\n",
       "      <td>0.26460</td>\n",
       "    </tr>\n",
       "  </tbody>\n",
       "</table>\n",
       "</div>"
      ],
      "text/plain": [
       "             price         open         high          low     change\n",
       "count   391.000000   391.000000   391.000000   391.000000  391.00000\n",
       "mean   1985.662532  1976.730537  2041.885831  1916.083887    0.00795\n",
       "std    1113.311176  1110.694074  1149.275091  1071.343201    0.05626\n",
       "min     341.040000   341.040000   341.810000   337.420000   -0.27860\n",
       "25%     994.195000   876.060000  1010.540000   856.220000   -0.02385\n",
       "50%    1967.830000  1967.420000  2031.410000  1915.740000    0.00760\n",
       "75%    2870.405000  2853.180000  2950.535000  2739.810000    0.03820\n",
       "max    4220.350000  4225.630000  4365.700000  4137.540000    0.26460"
      ]
     },
     "execution_count": 56,
     "metadata": {},
     "output_type": "execute_result"
    }
   ],
   "source": [
    "df.describe()"
   ]
  },
  {
   "cell_type": "code",
   "execution_count": 100,
   "id": "9bb4a786",
   "metadata": {},
   "outputs": [
    {
     "data": {
      "text/html": [
       "<div>\n",
       "<style scoped>\n",
       "    .dataframe tbody tr th:only-of-type {\n",
       "        vertical-align: middle;\n",
       "    }\n",
       "\n",
       "    .dataframe tbody tr th {\n",
       "        vertical-align: top;\n",
       "    }\n",
       "\n",
       "    .dataframe thead th {\n",
       "        text-align: right;\n",
       "    }\n",
       "</style>\n",
       "<table border=\"1\" class=\"dataframe\">\n",
       "  <thead>\n",
       "    <tr style=\"text-align: right;\">\n",
       "      <th></th>\n",
       "      <th>price</th>\n",
       "      <th>open</th>\n",
       "      <th>high</th>\n",
       "      <th>low</th>\n",
       "      <th>Volume</th>\n",
       "      <th>change</th>\n",
       "    </tr>\n",
       "    <tr>\n",
       "      <th>date</th>\n",
       "      <th></th>\n",
       "      <th></th>\n",
       "      <th></th>\n",
       "      <th></th>\n",
       "      <th></th>\n",
       "      <th></th>\n",
       "    </tr>\n",
       "  </thead>\n",
       "  <tbody>\n",
       "    <tr>\n",
       "      <th>2021-01-06</th>\n",
       "      <td>1202.23</td>\n",
       "      <td>1099.95</td>\n",
       "      <td>1202.23</td>\n",
       "      <td>1099.95</td>\n",
       "      <td>105.94K</td>\n",
       "      <td>0.0931</td>\n",
       "    </tr>\n",
       "    <tr>\n",
       "      <th>2021-01-10</th>\n",
       "      <td>1256.08</td>\n",
       "      <td>1333.96</td>\n",
       "      <td>1339.14</td>\n",
       "      <td>1256.08</td>\n",
       "      <td>68.07K</td>\n",
       "      <td>0.0448</td>\n",
       "    </tr>\n",
       "    <tr>\n",
       "      <th>2021-01-14</th>\n",
       "      <td>1233.17</td>\n",
       "      <td>1010.59</td>\n",
       "      <td>1233.17</td>\n",
       "      <td>1010.59</td>\n",
       "      <td>127.91K</td>\n",
       "      <td>0.2202</td>\n",
       "    </tr>\n",
       "    <tr>\n",
       "      <th>2021-01-16</th>\n",
       "      <td>1228.51</td>\n",
       "      <td>1168.81</td>\n",
       "      <td>1267.39</td>\n",
       "      <td>1168.81</td>\n",
       "      <td>159.59K</td>\n",
       "      <td>0.0511</td>\n",
       "    </tr>\n",
       "    <tr>\n",
       "      <th>2021-01-17</th>\n",
       "      <td>1233.54</td>\n",
       "      <td>1228.50</td>\n",
       "      <td>1233.54</td>\n",
       "      <td>1183.11</td>\n",
       "      <td>145.53K</td>\n",
       "      <td>0.0041</td>\n",
       "    </tr>\n",
       "    <tr>\n",
       "      <th>...</th>\n",
       "      <td>...</td>\n",
       "      <td>...</td>\n",
       "      <td>...</td>\n",
       "      <td>...</td>\n",
       "      <td>...</td>\n",
       "      <td>...</td>\n",
       "    </tr>\n",
       "    <tr>\n",
       "      <th>2021-10-22</th>\n",
       "      <td>3970.90</td>\n",
       "      <td>4053.34</td>\n",
       "      <td>4163.97</td>\n",
       "      <td>3896.17</td>\n",
       "      <td>463.25K</td>\n",
       "      <td>-0.0205</td>\n",
       "    </tr>\n",
       "    <tr>\n",
       "      <th>2021-10-23</th>\n",
       "      <td>4168.78</td>\n",
       "      <td>3971.49</td>\n",
       "      <td>4168.78</td>\n",
       "      <td>3938.36</td>\n",
       "      <td>326.59K</td>\n",
       "      <td>0.0498</td>\n",
       "    </tr>\n",
       "    <tr>\n",
       "      <th>2021-10-24</th>\n",
       "      <td>4083.18</td>\n",
       "      <td>4171.99</td>\n",
       "      <td>4183.98</td>\n",
       "      <td>3965.55</td>\n",
       "      <td>350.13K</td>\n",
       "      <td>-0.0205</td>\n",
       "    </tr>\n",
       "    <tr>\n",
       "      <th>2021-10-25</th>\n",
       "      <td>4220.35</td>\n",
       "      <td>4084.10</td>\n",
       "      <td>4235.25</td>\n",
       "      <td>4069.92</td>\n",
       "      <td>347.43K</td>\n",
       "      <td>0.0336</td>\n",
       "    </tr>\n",
       "    <tr>\n",
       "      <th>2021-10-26</th>\n",
       "      <td>4219.39</td>\n",
       "      <td>4225.63</td>\n",
       "      <td>4256.31</td>\n",
       "      <td>4137.54</td>\n",
       "      <td>313.98K</td>\n",
       "      <td>-0.0002</td>\n",
       "    </tr>\n",
       "  </tbody>\n",
       "</table>\n",
       "<p>286 rows × 6 columns</p>\n",
       "</div>"
      ],
      "text/plain": [
       "              price     open     high      low   Volume  change\n",
       "date                                                           \n",
       "2021-01-06  1202.23  1099.95  1202.23  1099.95  105.94K  0.0931\n",
       "2021-01-10  1256.08  1333.96  1339.14  1256.08   68.07K  0.0448\n",
       "2021-01-14  1233.17  1010.59  1233.17  1010.59  127.91K  0.2202\n",
       "2021-01-16  1228.51  1168.81  1267.39  1168.81  159.59K  0.0511\n",
       "2021-01-17  1233.54  1228.50  1233.54  1183.11  145.53K  0.0041\n",
       "...             ...      ...      ...      ...      ...     ...\n",
       "2021-10-22  3970.90  4053.34  4163.97  3896.17  463.25K -0.0205\n",
       "2021-10-23  4168.78  3971.49  4168.78  3938.36  326.59K  0.0498\n",
       "2021-10-24  4083.18  4171.99  4183.98  3965.55  350.13K -0.0205\n",
       "2021-10-25  4220.35  4084.10  4235.25  4069.92  347.43K  0.0336\n",
       "2021-10-26  4219.39  4225.63  4256.31  4137.54  313.98K -0.0002\n",
       "\n",
       "[286 rows x 6 columns]"
      ]
     },
     "execution_count": 100,
     "metadata": {},
     "output_type": "execute_result"
    }
   ],
   "source": [
    "df[df['price'] >1200]"
   ]
  },
  {
   "cell_type": "code",
   "execution_count": 12,
   "id": "f7ce273e",
   "metadata": {},
   "outputs": [],
   "source": [
    "df1200 = df.loc['2021-01-06':,['price','high','low']]"
   ]
  },
  {
   "cell_type": "code",
   "execution_count": 50,
   "id": "63cc1e91",
   "metadata": {},
   "outputs": [],
   "source": [
    "df04 = df.loc['2021-04-01':,['price','high','low']]"
   ]
  },
  {
   "cell_type": "code",
   "execution_count": 21,
   "id": "d287c87c",
   "metadata": {},
   "outputs": [
    {
     "name": "stdout",
     "output_type": "stream",
     "text": [
      "<class 'pandas.core.frame.DataFrame'>\n",
      "DatetimeIndex: 291 entries, 2021-01-06 to 2021-10-26\n",
      "Data columns (total 3 columns):\n",
      " #   Column  Non-Null Count  Dtype  \n",
      "---  ------  --------------  -----  \n",
      " 0   price   291 non-null    float64\n",
      " 1   high    291 non-null    float64\n",
      " 2   low     291 non-null    float64\n",
      "dtypes: float64(3)\n",
      "memory usage: 9.1 KB\n"
     ]
    }
   ],
   "source": [
    "df1200.info()"
   ]
  },
  {
   "cell_type": "code",
   "execution_count": 14,
   "id": "01d34143",
   "metadata": {},
   "outputs": [
    {
     "data": {
      "text/html": [
       "<div>\n",
       "<style scoped>\n",
       "    .dataframe tbody tr th:only-of-type {\n",
       "        vertical-align: middle;\n",
       "    }\n",
       "\n",
       "    .dataframe tbody tr th {\n",
       "        vertical-align: top;\n",
       "    }\n",
       "\n",
       "    .dataframe thead th {\n",
       "        text-align: right;\n",
       "    }\n",
       "</style>\n",
       "<table border=\"1\" class=\"dataframe\">\n",
       "  <thead>\n",
       "    <tr style=\"text-align: right;\">\n",
       "      <th></th>\n",
       "      <th>price</th>\n",
       "      <th>high</th>\n",
       "      <th>low</th>\n",
       "    </tr>\n",
       "  </thead>\n",
       "  <tbody>\n",
       "    <tr>\n",
       "      <th>count</th>\n",
       "      <td>291.000000</td>\n",
       "      <td>291.000000</td>\n",
       "      <td>291.000000</td>\n",
       "    </tr>\n",
       "    <tr>\n",
       "      <th>mean</th>\n",
       "      <td>2492.705326</td>\n",
       "      <td>2565.847663</td>\n",
       "      <td>2404.731031</td>\n",
       "    </tr>\n",
       "    <tr>\n",
       "      <th>std</th>\n",
       "      <td>806.405941</td>\n",
       "      <td>831.346540</td>\n",
       "      <td>774.881387</td>\n",
       "    </tr>\n",
       "    <tr>\n",
       "      <th>min</th>\n",
       "      <td>1010.590000</td>\n",
       "      <td>1066.960000</td>\n",
       "      <td>984.990000</td>\n",
       "    </tr>\n",
       "    <tr>\n",
       "      <th>25%</th>\n",
       "      <td>1827.235000</td>\n",
       "      <td>1849.480000</td>\n",
       "      <td>1779.765000</td>\n",
       "    </tr>\n",
       "    <tr>\n",
       "      <th>50%</th>\n",
       "      <td>2353.840000</td>\n",
       "      <td>2422.080000</td>\n",
       "      <td>2293.370000</td>\n",
       "    </tr>\n",
       "    <tr>\n",
       "      <th>75%</th>\n",
       "      <td>3216.220000</td>\n",
       "      <td>3295.115000</td>\n",
       "      <td>3058.400000</td>\n",
       "    </tr>\n",
       "    <tr>\n",
       "      <th>max</th>\n",
       "      <td>4220.350000</td>\n",
       "      <td>4365.700000</td>\n",
       "      <td>4137.540000</td>\n",
       "    </tr>\n",
       "  </tbody>\n",
       "</table>\n",
       "</div>"
      ],
      "text/plain": [
       "             price         high          low\n",
       "count   291.000000   291.000000   291.000000\n",
       "mean   2492.705326  2565.847663  2404.731031\n",
       "std     806.405941   831.346540   774.881387\n",
       "min    1010.590000  1066.960000   984.990000\n",
       "25%    1827.235000  1849.480000  1779.765000\n",
       "50%    2353.840000  2422.080000  2293.370000\n",
       "75%    3216.220000  3295.115000  3058.400000\n",
       "max    4220.350000  4365.700000  4137.540000"
      ]
     },
     "execution_count": 14,
     "metadata": {},
     "output_type": "execute_result"
    }
   ],
   "source": [
    "df1200.describe()"
   ]
  },
  {
   "cell_type": "code",
   "execution_count": 49,
   "id": "3564759b",
   "metadata": {},
   "outputs": [
    {
     "data": {
      "text/plain": [
       "<AxesSubplot:xlabel='date'>"
      ]
     },
     "execution_count": 49,
     "metadata": {},
     "output_type": "execute_result"
    },
    {
     "data": {
      "image/png": "[encoded data removed]",
      "text/plain": [
       "<Figure size 720x576 with 1 Axes>"
      ]
     },
     "metadata": {},
     "output_type": "display_data"
    }
   ],
   "source": [
    "fig, ax = plt.subplots(figsize = (10,8))\n",
    "df1200['price'].plot(ax=ax, legend = True)"
   ]
  },
  {
   "cell_type": "code",
   "execution_count": 106,
   "id": "48a451ae",
   "metadata": {},
   "outputs": [
    {
     "data": {
      "text/plain": [
       "<AxesSubplot:>"
      ]
     },
     "execution_count": 106,
     "metadata": {},
     "output_type": "execute_result"
    },
    {
     "data": {
      "image/png": "[encoded data removed]",
      "text/plain": [
       "<Figure size 432x288 with 1 Axes>"
      ]
     },
     "metadata": {
      "needs_background": "light"
     },
     "output_type": "display_data"
    }
   ],
   "source": [
    "df1200.boxplot()"
   ]
  },
  {
   "cell_type": "code",
   "execution_count": 48,
   "id": "67cb555f",
   "metadata": {},
   "outputs": [
    {
     "data": {
      "text/plain": [
       "<AxesSubplot:xlabel='date', ylabel='price'>"
      ]
     },
     "execution_count": 48,
     "metadata": {},
     "output_type": "execute_result"
    },
    {
     "data": {
      "image/png": "[encoded data removed]",
      "text/plain": [
       "<Figure size 432x288 with 1 Axes>"
      ]
     },
     "metadata": {},
     "output_type": "display_data"
    }
   ],
   "source": [
    "import seaborn as sns\n",
    "sns.set_theme(style=\"darkgrid\")\n",
    "\n",
    "# Plot the responses for different events and regions\n",
    "sns.lineplot(x='date', y='price', data=df1200, sizes=(20,10))"
   ]
  },
  {
   "cell_type": "code",
   "execution_count": 33,
   "id": "4c2cfc99",
   "metadata": {},
   "outputs": [
    {
     "data": {
      "text/plain": [
       "34.36426116838488"
      ]
     },
     "execution_count": 33,
     "metadata": {},
     "output_type": "execute_result"
    }
   ],
   "source": [
    "len(df1200[df1200['price']<2000])/len(df1200['price'])*100"
   ]
  },
  {
   "cell_type": "code",
   "execution_count": 34,
   "id": "2b1dd3c1",
   "metadata": {},
   "outputs": [
    {
     "data": {
      "text/plain": [
       "2.7491408934707904"
      ]
     },
     "execution_count": 34,
     "metadata": {},
     "output_type": "execute_result"
    }
   ],
   "source": [
    "len(df1200[df1200['price']>4000])/len(df1200['price'])*100"
   ]
  },
  {
   "cell_type": "code",
   "execution_count": 42,
   "id": "5f51aa5a",
   "metadata": {},
   "outputs": [
    {
     "data": {
      "text/plain": [
       "21.649484536082475"
      ]
     },
     "execution_count": 42,
     "metadata": {},
     "output_type": "execute_result"
    }
   ],
   "source": [
    "len(df1200[df1200['price']<1800])/len(df1200['price'])*100"
   ]
  },
  {
   "cell_type": "code",
   "execution_count": 51,
   "id": "465e1d74",
   "metadata": {},
   "outputs": [
    {
     "data": {
      "text/plain": [
       "8.61244019138756"
      ]
     },
     "execution_count": 51,
     "metadata": {},
     "output_type": "execute_result"
    }
   ],
   "source": [
    "len(df04[df04['price']<2000])/len(df04['price'])*100"
   ]
  },
  {
   "cell_type": "code",
   "execution_count": 54,
   "id": "06554f58",
   "metadata": {},
   "outputs": [
    {
     "data": {
      "text/plain": [
       "<AxesSubplot:xlabel='date'>"
      ]
     },
     "execution_count": 54,
     "metadata": {},
     "output_type": "execute_result"
    },
    {
     "data": {
      "image/png": "[encoded data removed]",
      "text/plain": [
       "<Figure size 432x288 with 1 Axes>"
      ]
     },
     "metadata": {},
     "output_type": "display_data"
    }
   ],
   "source": [
    "df04['price'].plot(grid=True)"
   ]
  },
  {
   "cell_type": "code",
   "execution_count": 55,
   "id": "e6b13e69",
   "metadata": {},
   "outputs": [
    {
     "data": {
      "text/plain": [
       "91.38755980861244"
      ]
     },
     "execution_count": 55,
     "metadata": {},
     "output_type": "execute_result"
    }
   ],
   "source": [
    "len(df04[df04['price']>2000])/len(df04['price'])*100"
   ]
  },
  {
   "cell_type": "code",
   "execution_count": 56,
   "id": "4ef0c22c",
   "metadata": {},
   "outputs": [
    {
     "data": {
      "text/plain": [
       "0.0"
      ]
     },
     "execution_count": 56,
     "metadata": {},
     "output_type": "execute_result"
    }
   ],
   "source": [
    "len(df04[df04['price']>5000])/len(df04['price'])*100"
   ]
  },
  {
   "cell_type": "code",
   "execution_count": null,
   "id": "0506625c",
   "metadata": {},
   "outputs": [],
   "source": []
  }
 ],
 "metadata": {
  "kernelspec": {
   "display_name": "Python 3",
   "language": "python",
   "name": "python3"
  },
  "language_info": {
   "codemirror_mode": {
    "name": "ipython",
    "version": 3
   },
   "file_extension": ".py",
   "mimetype": "text/x-python",
   "name": "python",
   "nbconvert_exporter": "python",
   "pygments_lexer": "ipython3",
   "version": "3.8.8"
  }
 },
 "nbformat": 4,
 "nbformat_minor": 5
}
