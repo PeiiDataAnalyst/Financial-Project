{
 "cells": [
  {
   "cell_type": "markdown",
   "id": "f65535b5",
   "metadata": {},
   "source": [
    "### Convert Eur to other currencies"
   ]
  },
  {
   "cell_type": "code",
   "execution_count": 1,
   "id": "e89b5b96",
   "metadata": {},
   "outputs": [],
   "source": [
    "def convert(x):\n",
    "    if x == 'AUD':\n",
    "        return 0.618402\n",
    "    elif x=='CAD':\n",
    "        return 0.671425\n",
    "    elif x=='CHF':\n",
    "        return 0.929351\n",
    "    elif x=='CNY':\n",
    "        return 0.131048\n",
    "    elif x=='DKK':\n",
    "        return 0.134472\n",
    "    elif x=='GBP':\n",
    "        return 1.16628\n",
    "    elif x=='HKD':\n",
    "        return 0.108852\n",
    "    elif x=='IDR':\n",
    "        return 0.000058981\n",
    "    elif x=='JPY':\n",
    "        return 0.007718374\n",
    "    elif x=='MYR':\n",
    "        return 0.203312\n",
    "    elif x=='NOK':\n",
    "        return 0.0973271\n",
    "    elif x=='NZD':\n",
    "        return 0.5929721\n",
    "    elif x=='SEK':\n",
    "        return 0.0980929\n",
    "    elif x=='SGD':\n",
    "        return 0.6293068\n",
    "    elif x=='THB':\n",
    "        return 0.0261356\n",
    "    elif x=='TWD':\n",
    "        return 0.0305228\n",
    "    elif x=='USD':\n",
    "        return 0.8477091\n",
    "    elif x=='VND':\n",
    "        return 0.00003719\n",
    "    elif x=='ZAR':\n",
    "        return 0.0577231\n",
    "    else:\n",
    "        return 1\n",
    "        "
   ]
  },
  {
   "cell_type": "code",
   "execution_count": null,
   "id": "dff22a49",
   "metadata": {},
   "outputs": [],
   "source": [
    "# name the cols which is goint to be converted\n",
    "cols = ['A','B','C']\n",
    "for col in cols:\n",
    "    df[col] = df[col]*df['Currency'].apply(convert)"
   ]
  }
 ],
 "metadata": {
  "kernelspec": {
   "display_name": "Python 3",
   "language": "python",
   "name": "python3"
  },
  "language_info": {
   "codemirror_mode": {
    "name": "ipython",
    "version": 3
   },
   "file_extension": ".py",
   "mimetype": "text/x-python",
   "name": "python",
   "nbconvert_exporter": "python",
   "pygments_lexer": "ipython3",
   "version": "3.8.8"
  }
 },
 "nbformat": 4,
 "nbformat_minor": 5
}
