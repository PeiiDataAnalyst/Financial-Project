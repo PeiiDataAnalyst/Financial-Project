{
 "cells": [
  {
   "cell_type": "markdown",
   "id": "526f95f2",
   "metadata": {},
   "source": [
    "## Volatility"
   ]
  },
  {
   "cell_type": "markdown",
   "id": "e1fbb1f7",
   "metadata": {},
   "source": [
    "####  From a financial standpoint, the standard deviation can help investors quantify how risky an investment is and determine their minimum required return on the investment.\n",
    "\n",
    "- Annualized Standard Deviation = Standard Deviation of Daily Returns * Square Root (252)\n",
    "- If standard deviation of daily returns were 2%, the annualized volatility will be = 2%*Sqrt(252) = 31.6%"
   ]
  },
  {
   "cell_type": "code",
   "execution_count": 1,
   "id": "dd604490",
   "metadata": {},
   "outputs": [],
   "source": [
    "import pandas_datareader as pdr"
   ]
  },
  {
   "cell_type": "code",
   "execution_count": 4,
   "id": "bc586003",
   "metadata": {},
   "outputs": [],
   "source": [
    "import pandas as pd\n",
    "import numpy as np\n",
    "import matplotlib.pyplot as plt\n",
    "import datetime as dt\n",
    "%matplotlib inline"
   ]
  },
  {
   "cell_type": "code",
   "execution_count": 5,
   "id": "4f495888",
   "metadata": {},
   "outputs": [],
   "source": [
    "ticker = 'AAPL'\n",
    "start = dt.datetime(2019, 1, 1)\n",
    "\n",
    "data = pdr.get_data_yahoo(ticker, start)"
   ]
  },
  {
   "cell_type": "code",
   "execution_count": 6,
   "id": "a02f273a",
   "metadata": {},
   "outputs": [
    {
     "data": {
      "text/html": [
       "<div>\n",
       "<style scoped>\n",
       "    .dataframe tbody tr th:only-of-type {\n",
       "        vertical-align: middle;\n",
       "    }\n",
       "\n",
       "    .dataframe tbody tr th {\n",
       "        vertical-align: top;\n",
       "    }\n",
       "\n",
       "    .dataframe thead th {\n",
       "        text-align: right;\n",
       "    }\n",
       "</style>\n",
       "<table border=\"1\" class=\"dataframe\">\n",
       "  <thead>\n",
       "    <tr style=\"text-align: right;\">\n",
       "      <th></th>\n",
       "      <th>High</th>\n",
       "      <th>Low</th>\n",
       "      <th>Open</th>\n",
       "      <th>Close</th>\n",
       "      <th>Volume</th>\n",
       "      <th>Adj Close</th>\n",
       "    </tr>\n",
       "    <tr>\n",
       "      <th>Date</th>\n",
       "      <th></th>\n",
       "      <th></th>\n",
       "      <th></th>\n",
       "      <th></th>\n",
       "      <th></th>\n",
       "      <th></th>\n",
       "    </tr>\n",
       "  </thead>\n",
       "  <tbody>\n",
       "    <tr>\n",
       "      <th>2019-01-02</th>\n",
       "      <td>39.712502</td>\n",
       "      <td>38.557499</td>\n",
       "      <td>38.722500</td>\n",
       "      <td>39.480000</td>\n",
       "      <td>148158800.0</td>\n",
       "      <td>38.382229</td>\n",
       "    </tr>\n",
       "    <tr>\n",
       "      <th>2019-01-03</th>\n",
       "      <td>36.430000</td>\n",
       "      <td>35.500000</td>\n",
       "      <td>35.994999</td>\n",
       "      <td>35.547501</td>\n",
       "      <td>365248800.0</td>\n",
       "      <td>34.559078</td>\n",
       "    </tr>\n",
       "    <tr>\n",
       "      <th>2019-01-04</th>\n",
       "      <td>37.137501</td>\n",
       "      <td>35.950001</td>\n",
       "      <td>36.132500</td>\n",
       "      <td>37.064999</td>\n",
       "      <td>234428400.0</td>\n",
       "      <td>36.034378</td>\n",
       "    </tr>\n",
       "    <tr>\n",
       "      <th>2019-01-07</th>\n",
       "      <td>37.207500</td>\n",
       "      <td>36.474998</td>\n",
       "      <td>37.174999</td>\n",
       "      <td>36.982498</td>\n",
       "      <td>219111200.0</td>\n",
       "      <td>35.954170</td>\n",
       "    </tr>\n",
       "    <tr>\n",
       "      <th>2019-01-08</th>\n",
       "      <td>37.955002</td>\n",
       "      <td>37.130001</td>\n",
       "      <td>37.389999</td>\n",
       "      <td>37.687500</td>\n",
       "      <td>164101200.0</td>\n",
       "      <td>36.639565</td>\n",
       "    </tr>\n",
       "  </tbody>\n",
       "</table>\n",
       "</div>"
      ],
      "text/plain": [
       "                 High        Low       Open      Close       Volume  Adj Close\n",
       "Date                                                                          \n",
       "2019-01-02  39.712502  38.557499  38.722500  39.480000  148158800.0  38.382229\n",
       "2019-01-03  36.430000  35.500000  35.994999  35.547501  365248800.0  34.559078\n",
       "2019-01-04  37.137501  35.950001  36.132500  37.064999  234428400.0  36.034378\n",
       "2019-01-07  37.207500  36.474998  37.174999  36.982498  219111200.0  35.954170\n",
       "2019-01-08  37.955002  37.130001  37.389999  37.687500  164101200.0  36.639565"
      ]
     },
     "execution_count": 6,
     "metadata": {},
     "output_type": "execute_result"
    }
   ],
   "source": [
    "data.head()"
   ]
  },
  {
   "cell_type": "code",
   "execution_count": 8,
   "id": "bf373bc9",
   "metadata": {},
   "outputs": [],
   "source": [
    "# create a new col for pct change\n",
    "#Percentage change between the current and a prior element.\n",
    "\n",
    "data['pct_change'] = data['Close'].pct_change()"
   ]
  },
  {
   "cell_type": "code",
   "execution_count": 9,
   "id": "c40ee698",
   "metadata": {},
   "outputs": [
    {
     "data": {
      "text/html": [
       "<div>\n",
       "<style scoped>\n",
       "    .dataframe tbody tr th:only-of-type {\n",
       "        vertical-align: middle;\n",
       "    }\n",
       "\n",
       "    .dataframe tbody tr th {\n",
       "        vertical-align: top;\n",
       "    }\n",
       "\n",
       "    .dataframe thead th {\n",
       "        text-align: right;\n",
       "    }\n",
       "</style>\n",
       "<table border=\"1\" class=\"dataframe\">\n",
       "  <thead>\n",
       "    <tr style=\"text-align: right;\">\n",
       "      <th></th>\n",
       "      <th>High</th>\n",
       "      <th>Low</th>\n",
       "      <th>Open</th>\n",
       "      <th>Close</th>\n",
       "      <th>Volume</th>\n",
       "      <th>Adj Close</th>\n",
       "      <th>pct_change</th>\n",
       "    </tr>\n",
       "    <tr>\n",
       "      <th>Date</th>\n",
       "      <th></th>\n",
       "      <th></th>\n",
       "      <th></th>\n",
       "      <th></th>\n",
       "      <th></th>\n",
       "      <th></th>\n",
       "      <th></th>\n",
       "    </tr>\n",
       "  </thead>\n",
       "  <tbody>\n",
       "    <tr>\n",
       "      <th>2019-01-02</th>\n",
       "      <td>39.712502</td>\n",
       "      <td>38.557499</td>\n",
       "      <td>38.722500</td>\n",
       "      <td>39.480000</td>\n",
       "      <td>148158800.0</td>\n",
       "      <td>38.382229</td>\n",
       "      <td>NaN</td>\n",
       "    </tr>\n",
       "    <tr>\n",
       "      <th>2019-01-03</th>\n",
       "      <td>36.430000</td>\n",
       "      <td>35.500000</td>\n",
       "      <td>35.994999</td>\n",
       "      <td>35.547501</td>\n",
       "      <td>365248800.0</td>\n",
       "      <td>34.559078</td>\n",
       "      <td>-0.099607</td>\n",
       "    </tr>\n",
       "    <tr>\n",
       "      <th>2019-01-04</th>\n",
       "      <td>37.137501</td>\n",
       "      <td>35.950001</td>\n",
       "      <td>36.132500</td>\n",
       "      <td>37.064999</td>\n",
       "      <td>234428400.0</td>\n",
       "      <td>36.034378</td>\n",
       "      <td>0.042689</td>\n",
       "    </tr>\n",
       "    <tr>\n",
       "      <th>2019-01-07</th>\n",
       "      <td>37.207500</td>\n",
       "      <td>36.474998</td>\n",
       "      <td>37.174999</td>\n",
       "      <td>36.982498</td>\n",
       "      <td>219111200.0</td>\n",
       "      <td>35.954170</td>\n",
       "      <td>-0.002226</td>\n",
       "    </tr>\n",
       "    <tr>\n",
       "      <th>2019-01-08</th>\n",
       "      <td>37.955002</td>\n",
       "      <td>37.130001</td>\n",
       "      <td>37.389999</td>\n",
       "      <td>37.687500</td>\n",
       "      <td>164101200.0</td>\n",
       "      <td>36.639565</td>\n",
       "      <td>0.019063</td>\n",
       "    </tr>\n",
       "  </tbody>\n",
       "</table>\n",
       "</div>"
      ],
      "text/plain": [
       "                 High        Low       Open      Close       Volume  \\\n",
       "Date                                                                  \n",
       "2019-01-02  39.712502  38.557499  38.722500  39.480000  148158800.0   \n",
       "2019-01-03  36.430000  35.500000  35.994999  35.547501  365248800.0   \n",
       "2019-01-04  37.137501  35.950001  36.132500  37.064999  234428400.0   \n",
       "2019-01-07  37.207500  36.474998  37.174999  36.982498  219111200.0   \n",
       "2019-01-08  37.955002  37.130001  37.389999  37.687500  164101200.0   \n",
       "\n",
       "            Adj Close  pct_change  \n",
       "Date                               \n",
       "2019-01-02  38.382229         NaN  \n",
       "2019-01-03  34.559078   -0.099607  \n",
       "2019-01-04  36.034378    0.042689  \n",
       "2019-01-07  35.954170   -0.002226  \n",
       "2019-01-08  36.639565    0.019063  "
      ]
     },
     "execution_count": 9,
     "metadata": {},
     "output_type": "execute_result"
    }
   ],
   "source": [
    "data.head()  #the 1st row is NaN"
   ]
  },
  {
   "cell_type": "code",
   "execution_count": 11,
   "id": "391b4df6",
   "metadata": {},
   "outputs": [],
   "source": [
    "# need to use np.log()\n",
    "data['Log return'] = np.log(data['Close']/data['Close'].shift())"
   ]
  },
  {
   "cell_type": "code",
   "execution_count": 12,
   "id": "822eb6e3",
   "metadata": {},
   "outputs": [
    {
     "data": {
      "text/html": [
       "<div>\n",
       "<style scoped>\n",
       "    .dataframe tbody tr th:only-of-type {\n",
       "        vertical-align: middle;\n",
       "    }\n",
       "\n",
       "    .dataframe tbody tr th {\n",
       "        vertical-align: top;\n",
       "    }\n",
       "\n",
       "    .dataframe thead th {\n",
       "        text-align: right;\n",
       "    }\n",
       "</style>\n",
       "<table border=\"1\" class=\"dataframe\">\n",
       "  <thead>\n",
       "    <tr style=\"text-align: right;\">\n",
       "      <th></th>\n",
       "      <th>High</th>\n",
       "      <th>Low</th>\n",
       "      <th>Open</th>\n",
       "      <th>Close</th>\n",
       "      <th>Volume</th>\n",
       "      <th>Adj Close</th>\n",
       "      <th>pct_change</th>\n",
       "      <th>Log return</th>\n",
       "    </tr>\n",
       "    <tr>\n",
       "      <th>Date</th>\n",
       "      <th></th>\n",
       "      <th></th>\n",
       "      <th></th>\n",
       "      <th></th>\n",
       "      <th></th>\n",
       "      <th></th>\n",
       "      <th></th>\n",
       "      <th></th>\n",
       "    </tr>\n",
       "  </thead>\n",
       "  <tbody>\n",
       "    <tr>\n",
       "      <th>2019-01-02</th>\n",
       "      <td>39.712502</td>\n",
       "      <td>38.557499</td>\n",
       "      <td>38.722500</td>\n",
       "      <td>39.480000</td>\n",
       "      <td>148158800.0</td>\n",
       "      <td>38.382229</td>\n",
       "      <td>NaN</td>\n",
       "      <td>NaN</td>\n",
       "    </tr>\n",
       "    <tr>\n",
       "      <th>2019-01-03</th>\n",
       "      <td>36.430000</td>\n",
       "      <td>35.500000</td>\n",
       "      <td>35.994999</td>\n",
       "      <td>35.547501</td>\n",
       "      <td>365248800.0</td>\n",
       "      <td>34.559078</td>\n",
       "      <td>-0.099607</td>\n",
       "      <td>-0.104924</td>\n",
       "    </tr>\n",
       "    <tr>\n",
       "      <th>2019-01-04</th>\n",
       "      <td>37.137501</td>\n",
       "      <td>35.950001</td>\n",
       "      <td>36.132500</td>\n",
       "      <td>37.064999</td>\n",
       "      <td>234428400.0</td>\n",
       "      <td>36.034378</td>\n",
       "      <td>0.042689</td>\n",
       "      <td>0.041803</td>\n",
       "    </tr>\n",
       "    <tr>\n",
       "      <th>2019-01-07</th>\n",
       "      <td>37.207500</td>\n",
       "      <td>36.474998</td>\n",
       "      <td>37.174999</td>\n",
       "      <td>36.982498</td>\n",
       "      <td>219111200.0</td>\n",
       "      <td>35.954170</td>\n",
       "      <td>-0.002226</td>\n",
       "      <td>-0.002228</td>\n",
       "    </tr>\n",
       "    <tr>\n",
       "      <th>2019-01-08</th>\n",
       "      <td>37.955002</td>\n",
       "      <td>37.130001</td>\n",
       "      <td>37.389999</td>\n",
       "      <td>37.687500</td>\n",
       "      <td>164101200.0</td>\n",
       "      <td>36.639565</td>\n",
       "      <td>0.019063</td>\n",
       "      <td>0.018884</td>\n",
       "    </tr>\n",
       "  </tbody>\n",
       "</table>\n",
       "</div>"
      ],
      "text/plain": [
       "                 High        Low       Open      Close       Volume  \\\n",
       "Date                                                                  \n",
       "2019-01-02  39.712502  38.557499  38.722500  39.480000  148158800.0   \n",
       "2019-01-03  36.430000  35.500000  35.994999  35.547501  365248800.0   \n",
       "2019-01-04  37.137501  35.950001  36.132500  37.064999  234428400.0   \n",
       "2019-01-07  37.207500  36.474998  37.174999  36.982498  219111200.0   \n",
       "2019-01-08  37.955002  37.130001  37.389999  37.687500  164101200.0   \n",
       "\n",
       "            Adj Close  pct_change  Log return  \n",
       "Date                                           \n",
       "2019-01-02  38.382229         NaN         NaN  \n",
       "2019-01-03  34.559078   -0.099607   -0.104924  \n",
       "2019-01-04  36.034378    0.042689    0.041803  \n",
       "2019-01-07  35.954170   -0.002226   -0.002228  \n",
       "2019-01-08  36.639565    0.019063    0.018884  "
      ]
     },
     "execution_count": 12,
     "metadata": {},
     "output_type": "execute_result"
    }
   ],
   "source": [
    "data.head()  #compare data in pct_change and Log return cols"
   ]
  },
  {
   "cell_type": "code",
   "execution_count": 14,
   "id": "bb1424fd",
   "metadata": {
    "scrolled": true
   },
   "outputs": [
    {
     "data": {
      "text/plain": [
       "Date\n",
       "2019-01-02         NaN\n",
       "2019-01-03    0.900393\n",
       "2019-01-04    1.042689\n",
       "2019-01-07    0.997774\n",
       "2019-01-08    1.019063\n",
       "                ...   \n",
       "2021-10-25    0.999664\n",
       "2021-10-26    1.004575\n",
       "2021-10-27    0.996852\n",
       "2021-10-28    1.024992\n",
       "2021-10-29    0.981844\n",
       "Name: Close, Length: 714, dtype: float64"
      ]
     },
     "execution_count": 14,
     "metadata": {},
     "output_type": "execute_result"
    }
   ],
   "source": [
    "# see inside the log function\n",
    "data['Close']/data['Close'].shift()"
   ]
  },
  {
   "cell_type": "code",
   "execution_count": 17,
   "id": "7429be52",
   "metadata": {},
   "outputs": [
    {
     "data": {
      "text/plain": [
       "Date\n",
       "2019-01-02           NaN\n",
       "2019-01-03     39.480000\n",
       "2019-01-04     35.547501\n",
       "2019-01-07     37.064999\n",
       "2019-01-08     36.982498\n",
       "                 ...    \n",
       "2021-10-25    148.690002\n",
       "2021-10-26    148.639999\n",
       "2021-10-27    149.320007\n",
       "2021-10-28    148.850006\n",
       "2021-10-29    152.570007\n",
       "Name: Close, Length: 714, dtype: float64"
      ]
     },
     "execution_count": 17,
     "metadata": {},
     "output_type": "execute_result"
    }
   ],
   "source": [
    "# shift the data down, ex: shift(2) down for 2 rows\n",
    "data['Close'].shift()"
   ]
  },
  {
   "cell_type": "code",
   "execution_count": 18,
   "id": "ab259078",
   "metadata": {},
   "outputs": [
    {
     "data": {
      "text/plain": [
       "Date\n",
       "2019-01-02     39.480000\n",
       "2019-01-03     35.547501\n",
       "2019-01-04     37.064999\n",
       "2019-01-07     36.982498\n",
       "2019-01-08     37.687500\n",
       "                 ...    \n",
       "2021-10-25    148.639999\n",
       "2021-10-26    149.320007\n",
       "2021-10-27    148.850006\n",
       "2021-10-28    152.570007\n",
       "2021-10-29    149.800003\n",
       "Name: Close, Length: 714, dtype: float64"
      ]
     },
     "execution_count": 18,
     "metadata": {},
     "output_type": "execute_result"
    }
   ],
   "source": [
    "data['Close']"
   ]
  },
  {
   "cell_type": "code",
   "execution_count": 20,
   "id": "cc8a7adf",
   "metadata": {},
   "outputs": [
    {
     "data": {
      "text/plain": [
       "0.021804339015518395"
      ]
     },
     "execution_count": 20,
     "metadata": {},
     "output_type": "execute_result"
    }
   ],
   "source": [
    "data['Log return'].std()"
   ]
  },
  {
   "cell_type": "code",
   "execution_count": 23,
   "id": "75a3bd40",
   "metadata": {},
   "outputs": [],
   "source": [
    "volatility = data['Log return'].std()*252**.5"
   ]
  },
  {
   "cell_type": "code",
   "execution_count": 24,
   "id": "ffbe88a1",
   "metadata": {},
   "outputs": [
    {
     "data": {
      "text/plain": [
       "0.3461331512232276"
      ]
     },
     "execution_count": 24,
     "metadata": {},
     "output_type": "execute_result"
    }
   ],
   "source": [
    "volatility"
   ]
  },
  {
   "cell_type": "code",
   "execution_count": 43,
   "id": "bea3ea81",
   "metadata": {},
   "outputs": [],
   "source": [
    "AnnVol = str(round(volatility, 4)*100)"
   ]
  },
  {
   "cell_type": "code",
   "execution_count": 45,
   "id": "8d7140c0",
   "metadata": {
    "scrolled": true
   },
   "outputs": [
    {
     "data": {
      "image/png": "[encoded data removed]",
      "text/plain": [
       "<Figure size 432x288 with 1 Axes>"
      ]
     },
     "metadata": {
      "needs_background": "light"
     },
     "output_type": "display_data"
    }
   ],
   "source": [
    "fig, ax =plt.subplots()\n",
    "data['Log return'].hist(ax=ax, bins=50, alpha= 0.6)\n",
    "ax.set_label('Log return')\n",
    "ax.set_ylabel('Frequency of log return')\n",
    "ax.set_title('AAPL Annual Volatility: '+ AnnVol+'%');"
   ]
  },
  {
   "cell_type": "markdown",
   "id": "b59e0def",
   "metadata": {},
   "source": [
    "###  Average True Range (ATR)\n",
    "\n",
    "Formula\n",
    "$TR = \\max[H − L, |H − C_P|, |L − C_P|]$\n",
    "\n",
    "$ATR = \\frac{1}{n}\\sum_{i=1}^{n} TR_i$\n",
    "\n",
    "- $TR_i$: A particular True Range\n",
    "- $n$: The time period employed\n",
    "- $H$: Current High\n",
    "- $L$: Current Low\n",
    "- $C_P$: Previous Close"
   ]
  },
  {
   "cell_type": "code",
   "execution_count": 171,
   "id": "0a725ecd",
   "metadata": {},
   "outputs": [],
   "source": [
    "tickers =['AAPL', 'NFLX']\n",
    "start = dt.datetime(2020,1,1)\n",
    "data = pdr.get_data_yahoo(tickers, start)"
   ]
  },
  {
   "cell_type": "code",
   "execution_count": 172,
   "id": "42439f72",
   "metadata": {},
   "outputs": [
    {
     "data": {
      "text/html": [
       "<div>\n",
       "<style scoped>\n",
       "    .dataframe tbody tr th:only-of-type {\n",
       "        vertical-align: middle;\n",
       "    }\n",
       "\n",
       "    .dataframe tbody tr th {\n",
       "        vertical-align: top;\n",
       "    }\n",
       "\n",
       "    .dataframe thead tr th {\n",
       "        text-align: left;\n",
       "    }\n",
       "\n",
       "    .dataframe thead tr:last-of-type th {\n",
       "        text-align: right;\n",
       "    }\n",
       "</style>\n",
       "<table border=\"1\" class=\"dataframe\">\n",
       "  <thead>\n",
       "    <tr>\n",
       "      <th>Attributes</th>\n",
       "      <th colspan=\"2\" halign=\"left\">Adj Close</th>\n",
       "      <th colspan=\"2\" halign=\"left\">Close</th>\n",
       "      <th colspan=\"2\" halign=\"left\">High</th>\n",
       "      <th colspan=\"2\" halign=\"left\">Low</th>\n",
       "      <th colspan=\"2\" halign=\"left\">Open</th>\n",
       "      <th colspan=\"2\" halign=\"left\">Volume</th>\n",
       "    </tr>\n",
       "    <tr>\n",
       "      <th>Symbols</th>\n",
       "      <th>AAPL</th>\n",
       "      <th>NFLX</th>\n",
       "      <th>AAPL</th>\n",
       "      <th>NFLX</th>\n",
       "      <th>AAPL</th>\n",
       "      <th>NFLX</th>\n",
       "      <th>AAPL</th>\n",
       "      <th>NFLX</th>\n",
       "      <th>AAPL</th>\n",
       "      <th>NFLX</th>\n",
       "      <th>AAPL</th>\n",
       "      <th>NFLX</th>\n",
       "    </tr>\n",
       "    <tr>\n",
       "      <th>Date</th>\n",
       "      <th></th>\n",
       "      <th></th>\n",
       "      <th></th>\n",
       "      <th></th>\n",
       "      <th></th>\n",
       "      <th></th>\n",
       "      <th></th>\n",
       "      <th></th>\n",
       "      <th></th>\n",
       "      <th></th>\n",
       "      <th></th>\n",
       "      <th></th>\n",
       "    </tr>\n",
       "  </thead>\n",
       "  <tbody>\n",
       "    <tr>\n",
       "      <th>2020-01-02</th>\n",
       "      <td>74.096466</td>\n",
       "      <td>329.809998</td>\n",
       "      <td>75.087502</td>\n",
       "      <td>329.809998</td>\n",
       "      <td>75.150002</td>\n",
       "      <td>329.980011</td>\n",
       "      <td>73.797501</td>\n",
       "      <td>324.779999</td>\n",
       "      <td>74.059998</td>\n",
       "      <td>326.100006</td>\n",
       "      <td>135480400.0</td>\n",
       "      <td>4485800.0</td>\n",
       "    </tr>\n",
       "    <tr>\n",
       "      <th>2020-01-03</th>\n",
       "      <td>73.376076</td>\n",
       "      <td>325.899994</td>\n",
       "      <td>74.357498</td>\n",
       "      <td>325.899994</td>\n",
       "      <td>75.144997</td>\n",
       "      <td>329.859985</td>\n",
       "      <td>74.125000</td>\n",
       "      <td>325.529999</td>\n",
       "      <td>74.287498</td>\n",
       "      <td>326.779999</td>\n",
       "      <td>146322800.0</td>\n",
       "      <td>3806900.0</td>\n",
       "    </tr>\n",
       "    <tr>\n",
       "      <th>2020-01-06</th>\n",
       "      <td>73.960762</td>\n",
       "      <td>335.829987</td>\n",
       "      <td>74.949997</td>\n",
       "      <td>335.829987</td>\n",
       "      <td>74.989998</td>\n",
       "      <td>336.359985</td>\n",
       "      <td>73.187500</td>\n",
       "      <td>321.200012</td>\n",
       "      <td>73.447502</td>\n",
       "      <td>323.119995</td>\n",
       "      <td>118387200.0</td>\n",
       "      <td>5663100.0</td>\n",
       "    </tr>\n",
       "    <tr>\n",
       "      <th>2020-01-07</th>\n",
       "      <td>73.612930</td>\n",
       "      <td>330.750000</td>\n",
       "      <td>74.597504</td>\n",
       "      <td>330.750000</td>\n",
       "      <td>75.224998</td>\n",
       "      <td>336.700012</td>\n",
       "      <td>74.370003</td>\n",
       "      <td>330.299988</td>\n",
       "      <td>74.959999</td>\n",
       "      <td>336.470001</td>\n",
       "      <td>108872000.0</td>\n",
       "      <td>4703200.0</td>\n",
       "    </tr>\n",
       "    <tr>\n",
       "      <th>2020-01-08</th>\n",
       "      <td>74.797081</td>\n",
       "      <td>339.260010</td>\n",
       "      <td>75.797501</td>\n",
       "      <td>339.260010</td>\n",
       "      <td>76.110001</td>\n",
       "      <td>342.700012</td>\n",
       "      <td>74.290001</td>\n",
       "      <td>331.049988</td>\n",
       "      <td>74.290001</td>\n",
       "      <td>331.489990</td>\n",
       "      <td>132079200.0</td>\n",
       "      <td>7104500.0</td>\n",
       "    </tr>\n",
       "  </tbody>\n",
       "</table>\n",
       "</div>"
      ],
      "text/plain": [
       "Attributes  Adj Close                  Close                   High  \\\n",
       "Symbols          AAPL        NFLX       AAPL        NFLX       AAPL   \n",
       "Date                                                                  \n",
       "2020-01-02  74.096466  329.809998  75.087502  329.809998  75.150002   \n",
       "2020-01-03  73.376076  325.899994  74.357498  325.899994  75.144997   \n",
       "2020-01-06  73.960762  335.829987  74.949997  335.829987  74.989998   \n",
       "2020-01-07  73.612930  330.750000  74.597504  330.750000  75.224998   \n",
       "2020-01-08  74.797081  339.260010  75.797501  339.260010  76.110001   \n",
       "\n",
       "Attributes                    Low                   Open              \\\n",
       "Symbols           NFLX       AAPL        NFLX       AAPL        NFLX   \n",
       "Date                                                                   \n",
       "2020-01-02  329.980011  73.797501  324.779999  74.059998  326.100006   \n",
       "2020-01-03  329.859985  74.125000  325.529999  74.287498  326.779999   \n",
       "2020-01-06  336.359985  73.187500  321.200012  73.447502  323.119995   \n",
       "2020-01-07  336.700012  74.370003  330.299988  74.959999  336.470001   \n",
       "2020-01-08  342.700012  74.290001  331.049988  74.290001  331.489990   \n",
       "\n",
       "Attributes       Volume             \n",
       "Symbols            AAPL       NFLX  \n",
       "Date                                \n",
       "2020-01-02  135480400.0  4485800.0  \n",
       "2020-01-03  146322800.0  3806900.0  \n",
       "2020-01-06  118387200.0  5663100.0  \n",
       "2020-01-07  108872000.0  4703200.0  \n",
       "2020-01-08  132079200.0  7104500.0  "
      ]
     },
     "execution_count": 172,
     "metadata": {},
     "output_type": "execute_result"
    }
   ],
   "source": [
    "data.head()"
   ]
  },
  {
   "cell_type": "code",
   "execution_count": 173,
   "id": "60d55b8e",
   "metadata": {},
   "outputs": [],
   "source": [
    "high_low = data['High']-data['Low']\n",
    "# absolute number, np.abs()\n",
    "high_cp = np.abs(data['High']-data['Close'].shift())\n",
    "low_cp = np.abs(data['Low']-data['Close'].shift())"
   ]
  },
  {
   "cell_type": "code",
   "execution_count": 182,
   "id": "0d3cb3a6",
   "metadata": {
    "scrolled": false
   },
   "outputs": [
    {
     "data": {
      "text/html": [
       "<div>\n",
       "<style scoped>\n",
       "    .dataframe tbody tr th:only-of-type {\n",
       "        vertical-align: middle;\n",
       "    }\n",
       "\n",
       "    .dataframe tbody tr th {\n",
       "        vertical-align: top;\n",
       "    }\n",
       "\n",
       "    .dataframe thead th {\n",
       "        text-align: right;\n",
       "    }\n",
       "</style>\n",
       "<table border=\"1\" class=\"dataframe\">\n",
       "  <thead>\n",
       "    <tr style=\"text-align: right;\">\n",
       "      <th>Symbols</th>\n",
       "      <th>AAPL</th>\n",
       "      <th>NFLX</th>\n",
       "      <th>AAPL</th>\n",
       "      <th>NFLX</th>\n",
       "      <th>AAPL</th>\n",
       "      <th>NFLX</th>\n",
       "    </tr>\n",
       "    <tr>\n",
       "      <th>Date</th>\n",
       "      <th></th>\n",
       "      <th></th>\n",
       "      <th></th>\n",
       "      <th></th>\n",
       "      <th></th>\n",
       "      <th></th>\n",
       "    </tr>\n",
       "  </thead>\n",
       "  <tbody>\n",
       "    <tr>\n",
       "      <th>2020-01-02</th>\n",
       "      <td>1.352501</td>\n",
       "      <td>5.200012</td>\n",
       "      <td>NaN</td>\n",
       "      <td>NaN</td>\n",
       "      <td>NaN</td>\n",
       "      <td>NaN</td>\n",
       "    </tr>\n",
       "    <tr>\n",
       "      <th>2020-01-03</th>\n",
       "      <td>1.019997</td>\n",
       "      <td>4.329987</td>\n",
       "      <td>0.057495</td>\n",
       "      <td>0.049988</td>\n",
       "      <td>0.962502</td>\n",
       "      <td>4.279999</td>\n",
       "    </tr>\n",
       "    <tr>\n",
       "      <th>2020-01-06</th>\n",
       "      <td>1.802498</td>\n",
       "      <td>15.159973</td>\n",
       "      <td>0.632500</td>\n",
       "      <td>10.459991</td>\n",
       "      <td>1.169998</td>\n",
       "      <td>4.699982</td>\n",
       "    </tr>\n",
       "    <tr>\n",
       "      <th>2020-01-07</th>\n",
       "      <td>0.854996</td>\n",
       "      <td>6.400024</td>\n",
       "      <td>0.275002</td>\n",
       "      <td>0.870026</td>\n",
       "      <td>0.579994</td>\n",
       "      <td>5.529999</td>\n",
       "    </tr>\n",
       "    <tr>\n",
       "      <th>2020-01-08</th>\n",
       "      <td>1.820000</td>\n",
       "      <td>11.650024</td>\n",
       "      <td>1.512497</td>\n",
       "      <td>11.950012</td>\n",
       "      <td>0.307503</td>\n",
       "      <td>0.299988</td>\n",
       "    </tr>\n",
       "  </tbody>\n",
       "</table>\n",
       "</div>"
      ],
      "text/plain": [
       "Symbols         AAPL       NFLX      AAPL       NFLX      AAPL      NFLX\n",
       "Date                                                                    \n",
       "2020-01-02  1.352501   5.200012       NaN        NaN       NaN       NaN\n",
       "2020-01-03  1.019997   4.329987  0.057495   0.049988  0.962502  4.279999\n",
       "2020-01-06  1.802498  15.159973  0.632500  10.459991  1.169998  4.699982\n",
       "2020-01-07  0.854996   6.400024  0.275002   0.870026  0.579994  5.529999\n",
       "2020-01-08  1.820000  11.650024  1.512497  11.950012  0.307503  0.299988"
      ]
     },
     "execution_count": 182,
     "metadata": {},
     "output_type": "execute_result"
    }
   ],
   "source": [
    "df = pd.concat([high_low, high_cp, low_cp], axis=1)\n",
    "df.head()"
   ]
  },
  {
   "cell_type": "code",
   "execution_count": 185,
   "id": "958344e6",
   "metadata": {},
   "outputs": [
    {
     "ename": "AttributeError",
     "evalue": "'map' object has no attribute 'to_DataFrame'",
     "output_type": "error",
     "traceback": [
      "\u001b[1;31m---------------------------------------------------------------------------\u001b[0m",
      "\u001b[1;31mAttributeError\u001b[0m                            Traceback (most recent call last)",
      "\u001b[1;32m<ipython-input-185-5a321c6c1178>\u001b[0m in \u001b[0;36m<module>\u001b[1;34m\u001b[0m\n\u001b[0;32m      1\u001b[0m \u001b[0mdatas\u001b[0m \u001b[1;33m=\u001b[0m \u001b[0mmap\u001b[0m\u001b[1;33m(\u001b[0m\u001b[1;34m'Date'\u001b[0m\u001b[1;33m,\u001b[0m\u001b[1;34m'Symbols'\u001b[0m\u001b[1;33m)\u001b[0m\u001b[1;33m\u001b[0m\u001b[1;33m\u001b[0m\u001b[0m\n\u001b[1;32m----> 2\u001b[1;33m \u001b[0mdatas\u001b[0m\u001b[1;33m.\u001b[0m\u001b[0mto_DataFrame\u001b[0m\u001b[1;33m\u001b[0m\u001b[1;33m\u001b[0m\u001b[0m\n\u001b[0m",
      "\u001b[1;31mAttributeError\u001b[0m: 'map' object has no attribute 'to_DataFrame'"
     ]
    }
   ],
   "source": [
    "datas = map('Date','Symbols')"
   ]
  },
  {
   "cell_type": "code",
   "execution_count": 150,
   "id": "2c6d48a8",
   "metadata": {},
   "outputs": [
    {
     "data": {
      "text/plain": [
       "0    56.959991\n",
       "1    91.519989\n",
       "2    55.089996\n",
       "dtype: float64"
      ]
     },
     "execution_count": 150,
     "metadata": {},
     "output_type": "execute_result"
    }
   ],
   "source": [
    "## find the max for each row, not col\n",
    "true_range = np.max(df)\n",
    "true_range"
   ]
  },
  {
   "cell_type": "code",
   "execution_count": 151,
   "id": "14576845",
   "metadata": {},
   "outputs": [
    {
     "data": {
      "text/plain": [
       "Date\n",
       "2020-01-02     5.200012\n",
       "2020-01-03     4.329987\n",
       "2020-01-06    15.159973\n",
       "2020-01-07     6.400024\n",
       "2020-01-08    11.950012\n",
       "                ...    \n",
       "2021-10-26    13.719971\n",
       "2021-10-27     9.559998\n",
       "2021-10-28    13.880005\n",
       "2021-10-29    19.729980\n",
       "2021-11-01    13.770020\n",
       "Length: 463, dtype: float64"
      ]
     },
     "execution_count": 151,
     "metadata": {},
     "output_type": "execute_result"
    }
   ],
   "source": [
    "true_range = np.max(df, axis=1)\n",
    "true_range"
   ]
  },
  {
   "cell_type": "code",
   "execution_count": 152,
   "id": "16d7b824",
   "metadata": {},
   "outputs": [],
   "source": [
    "#rolling window calculations\n",
    "# take previous 14 days'mean()\n",
    "average_true_range = true_range.rolling(14).mean()"
   ]
  },
  {
   "cell_type": "code",
   "execution_count": 153,
   "id": "7c468cec",
   "metadata": {},
   "outputs": [
    {
     "data": {
      "text/plain": [
       "Date\n",
       "2020-01-02          NaN\n",
       "2020-01-03          NaN\n",
       "2020-01-06          NaN\n",
       "2020-01-07          NaN\n",
       "2020-01-08          NaN\n",
       "                ...    \n",
       "2021-10-26    15.392138\n",
       "2021-10-27    14.904279\n",
       "2021-10-28    14.971422\n",
       "2021-10-29    15.477853\n",
       "2021-11-01    15.342141\n",
       "Length: 463, dtype: float64"
      ]
     },
     "execution_count": 153,
     "metadata": {},
     "output_type": "execute_result"
    }
   ],
   "source": [
    "average_true_range"
   ]
  },
  {
   "cell_type": "code",
   "execution_count": 169,
   "id": "0ddee617",
   "metadata": {},
   "outputs": [
    {
     "data": {
      "image/png": "[encoded data removed]",
      "text/plain": [
       "<Figure size 720x432 with 2 Axes>"
      ]
     },
     "metadata": {
      "needs_background": "light"
     },
     "output_type": "display_data"
    }
   ],
   "source": [
    "fig, ax = plt.subplots(figsize=(10,6))\n",
    "average_true_range.plot(ax=ax)\n",
    "# need to add secondary_y otherwise it is hard to see the chart\n",
    "ax2 = data['Adj Close'].plot(ax=ax, secondary_y =True, alpha=.7)\n",
    "ax.set_ylabel('ATR')\n",
    "# how to set secondary y label: name the price plot as ax2\n",
    "ax2.set_ylabel('Price');"
   ]
  },
  {
   "cell_type": "markdown",
   "id": "8980dc32",
   "metadata": {},
   "source": [
    "### Compare 2 stocks"
   ]
  },
  {
   "cell_type": "code",
   "execution_count": null,
   "id": "0282a3fa",
   "metadata": {},
   "outputs": [],
   "source": []
  },
  {
   "cell_type": "code",
   "execution_count": null,
   "id": "9556b340",
   "metadata": {},
   "outputs": [],
   "source": []
  },
  {
   "cell_type": "code",
   "execution_count": null,
   "id": "8962e76f",
   "metadata": {},
   "outputs": [],
   "source": []
  },
  {
   "cell_type": "code",
   "execution_count": null,
   "id": "f0306631",
   "metadata": {},
   "outputs": [],
   "source": []
  }
 ],
 "metadata": {
  "kernelspec": {
   "display_name": "Python 3",
   "language": "python",
   "name": "python3"
  },
  "language_info": {
   "codemirror_mode": {
    "name": "ipython",
    "version": 3
   },
   "file_extension": ".py",
   "mimetype": "text/x-python",
   "name": "python",
   "nbconvert_exporter": "python",
   "pygments_lexer": "ipython3",
   "version": "3.8.8"
  }
 },
 "nbformat": 4,
 "nbformat_minor": 5
}
