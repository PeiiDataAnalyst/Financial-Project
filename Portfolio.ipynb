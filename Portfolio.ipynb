{
 "cells": [
  {
   "cell_type": "code",
   "execution_count": 3,
   "id": "6b496e27",
   "metadata": {},
   "outputs": [],
   "source": [
    "import pandas_datareader as pdr\n",
    "import pandas as pd\n",
    "import numpy as np\n",
    "import matplotlib.pyplot as plt\n",
    "import datetime as dt\n",
    "%matplotlib inline"
   ]
  },
  {
   "cell_type": "code",
   "execution_count": 35,
   "id": "f5b3158c",
   "metadata": {},
   "outputs": [],
   "source": [
    "tickers=['AAPL', 'V', 'ARKK', 'DIS']\n",
    "start = dt.datetime(2021,1,1)\n",
    "end = dt.datetime(2021,9,1)\n",
    "data = pdr.get_data_yahoo(tickers, start, end)"
   ]
  },
  {
   "cell_type": "code",
   "execution_count": 36,
   "id": "e6bb0a73",
   "metadata": {},
   "outputs": [
    {
     "data": {
      "text/html": [
       "<div>\n",
       "<style scoped>\n",
       "    .dataframe tbody tr th:only-of-type {\n",
       "        vertical-align: middle;\n",
       "    }\n",
       "\n",
       "    .dataframe tbody tr th {\n",
       "        vertical-align: top;\n",
       "    }\n",
       "\n",
       "    .dataframe thead tr th {\n",
       "        text-align: left;\n",
       "    }\n",
       "\n",
       "    .dataframe thead tr:last-of-type th {\n",
       "        text-align: right;\n",
       "    }\n",
       "</style>\n",
       "<table border=\"1\" class=\"dataframe\">\n",
       "  <thead>\n",
       "    <tr>\n",
       "      <th>Attributes</th>\n",
       "      <th colspan=\"4\" halign=\"left\">Adj Close</th>\n",
       "      <th colspan=\"4\" halign=\"left\">Close</th>\n",
       "      <th colspan=\"2\" halign=\"left\">High</th>\n",
       "      <th>...</th>\n",
       "      <th colspan=\"2\" halign=\"left\">Low</th>\n",
       "      <th colspan=\"4\" halign=\"left\">Open</th>\n",
       "      <th colspan=\"4\" halign=\"left\">Volume</th>\n",
       "    </tr>\n",
       "    <tr>\n",
       "      <th>Symbols</th>\n",
       "      <th>AAPL</th>\n",
       "      <th>V</th>\n",
       "      <th>ARKK</th>\n",
       "      <th>DIS</th>\n",
       "      <th>AAPL</th>\n",
       "      <th>V</th>\n",
       "      <th>ARKK</th>\n",
       "      <th>DIS</th>\n",
       "      <th>AAPL</th>\n",
       "      <th>V</th>\n",
       "      <th>...</th>\n",
       "      <th>ARKK</th>\n",
       "      <th>DIS</th>\n",
       "      <th>AAPL</th>\n",
       "      <th>V</th>\n",
       "      <th>ARKK</th>\n",
       "      <th>DIS</th>\n",
       "      <th>AAPL</th>\n",
       "      <th>V</th>\n",
       "      <th>ARKK</th>\n",
       "      <th>DIS</th>\n",
       "    </tr>\n",
       "    <tr>\n",
       "      <th>Date</th>\n",
       "      <th></th>\n",
       "      <th></th>\n",
       "      <th></th>\n",
       "      <th></th>\n",
       "      <th></th>\n",
       "      <th></th>\n",
       "      <th></th>\n",
       "      <th></th>\n",
       "      <th></th>\n",
       "      <th></th>\n",
       "      <th></th>\n",
       "      <th></th>\n",
       "      <th></th>\n",
       "      <th></th>\n",
       "      <th></th>\n",
       "      <th></th>\n",
       "      <th></th>\n",
       "      <th></th>\n",
       "      <th></th>\n",
       "      <th></th>\n",
       "      <th></th>\n",
       "    </tr>\n",
       "  </thead>\n",
       "  <tbody>\n",
       "    <tr>\n",
       "      <th>2021-01-04</th>\n",
       "      <td>128.804825</td>\n",
       "      <td>216.811539</td>\n",
       "      <td>124.690002</td>\n",
       "      <td>177.679993</td>\n",
       "      <td>129.410004</td>\n",
       "      <td>217.759995</td>\n",
       "      <td>124.690002</td>\n",
       "      <td>177.679993</td>\n",
       "      <td>133.610001</td>\n",
       "      <td>220.250000</td>\n",
       "      <td>...</td>\n",
       "      <td>122.440002</td>\n",
       "      <td>174.729996</td>\n",
       "      <td>133.520004</td>\n",
       "      <td>220.250000</td>\n",
       "      <td>126.220001</td>\n",
       "      <td>182.259995</td>\n",
       "      <td>143301900.0</td>\n",
       "      <td>10318300.0</td>\n",
       "      <td>8314400.0</td>\n",
       "      <td>13426600.0</td>\n",
       "    </tr>\n",
       "    <tr>\n",
       "      <th>2021-01-05</th>\n",
       "      <td>130.397308</td>\n",
       "      <td>213.575684</td>\n",
       "      <td>127.760002</td>\n",
       "      <td>178.440002</td>\n",
       "      <td>131.009995</td>\n",
       "      <td>214.509995</td>\n",
       "      <td>127.760002</td>\n",
       "      <td>178.440002</td>\n",
       "      <td>131.740005</td>\n",
       "      <td>218.460007</td>\n",
       "      <td>...</td>\n",
       "      <td>124.080002</td>\n",
       "      <td>176.199997</td>\n",
       "      <td>128.889999</td>\n",
       "      <td>216.309998</td>\n",
       "      <td>124.379997</td>\n",
       "      <td>176.199997</td>\n",
       "      <td>97664900.0</td>\n",
       "      <td>6869700.0</td>\n",
       "      <td>5362200.0</td>\n",
       "      <td>7771800.0</td>\n",
       "    </tr>\n",
       "    <tr>\n",
       "      <th>2021-01-06</th>\n",
       "      <td>126.007957</td>\n",
       "      <td>211.693924</td>\n",
       "      <td>128.229996</td>\n",
       "      <td>179.119995</td>\n",
       "      <td>126.599998</td>\n",
       "      <td>212.619995</td>\n",
       "      <td>128.229996</td>\n",
       "      <td>179.119995</td>\n",
       "      <td>131.050003</td>\n",
       "      <td>216.169998</td>\n",
       "      <td>...</td>\n",
       "      <td>125.849998</td>\n",
       "      <td>177.279999</td>\n",
       "      <td>127.720001</td>\n",
       "      <td>213.800003</td>\n",
       "      <td>126.690002</td>\n",
       "      <td>178.320007</td>\n",
       "      <td>155088000.0</td>\n",
       "      <td>7206200.0</td>\n",
       "      <td>6847500.0</td>\n",
       "      <td>7517800.0</td>\n",
       "    </tr>\n",
       "    <tr>\n",
       "      <th>2021-01-07</th>\n",
       "      <td>130.307739</td>\n",
       "      <td>212.878738</td>\n",
       "      <td>138.380005</td>\n",
       "      <td>178.580002</td>\n",
       "      <td>130.919998</td>\n",
       "      <td>213.809998</td>\n",
       "      <td>138.380005</td>\n",
       "      <td>178.580002</td>\n",
       "      <td>131.630005</td>\n",
       "      <td>215.220001</td>\n",
       "      <td>...</td>\n",
       "      <td>131.130005</td>\n",
       "      <td>177.580002</td>\n",
       "      <td>128.360001</td>\n",
       "      <td>212.199997</td>\n",
       "      <td>131.160004</td>\n",
       "      <td>179.500000</td>\n",
       "      <td>109578200.0</td>\n",
       "      <td>10967900.0</td>\n",
       "      <td>8145100.0</td>\n",
       "      <td>7300800.0</td>\n",
       "    </tr>\n",
       "    <tr>\n",
       "      <th>2021-01-08</th>\n",
       "      <td>131.432465</td>\n",
       "      <td>214.511581</td>\n",
       "      <td>142.479996</td>\n",
       "      <td>178.690002</td>\n",
       "      <td>132.050003</td>\n",
       "      <td>215.449997</td>\n",
       "      <td>142.479996</td>\n",
       "      <td>178.690002</td>\n",
       "      <td>132.630005</td>\n",
       "      <td>216.119995</td>\n",
       "      <td>...</td>\n",
       "      <td>139.289993</td>\n",
       "      <td>176.600006</td>\n",
       "      <td>132.429993</td>\n",
       "      <td>214.169998</td>\n",
       "      <td>142.029999</td>\n",
       "      <td>178.809998</td>\n",
       "      <td>105158200.0</td>\n",
       "      <td>6513000.0</td>\n",
       "      <td>12830300.0</td>\n",
       "      <td>7894500.0</td>\n",
       "    </tr>\n",
       "  </tbody>\n",
       "</table>\n",
       "<p>5 rows × 24 columns</p>\n",
       "</div>"
      ],
      "text/plain": [
       "Attributes   Adj Close                                           Close  \\\n",
       "Symbols           AAPL           V        ARKK         DIS        AAPL   \n",
       "Date                                                                     \n",
       "2021-01-04  128.804825  216.811539  124.690002  177.679993  129.410004   \n",
       "2021-01-05  130.397308  213.575684  127.760002  178.440002  131.009995   \n",
       "2021-01-06  126.007957  211.693924  128.229996  179.119995  126.599998   \n",
       "2021-01-07  130.307739  212.878738  138.380005  178.580002  130.919998   \n",
       "2021-01-08  131.432465  214.511581  142.479996  178.690002  132.050003   \n",
       "\n",
       "Attributes                                            High              ...  \\\n",
       "Symbols              V        ARKK         DIS        AAPL           V  ...   \n",
       "Date                                                                    ...   \n",
       "2021-01-04  217.759995  124.690002  177.679993  133.610001  220.250000  ...   \n",
       "2021-01-05  214.509995  127.760002  178.440002  131.740005  218.460007  ...   \n",
       "2021-01-06  212.619995  128.229996  179.119995  131.050003  216.169998  ...   \n",
       "2021-01-07  213.809998  138.380005  178.580002  131.630005  215.220001  ...   \n",
       "2021-01-08  215.449997  142.479996  178.690002  132.630005  216.119995  ...   \n",
       "\n",
       "Attributes         Low                    Open                          \\\n",
       "Symbols           ARKK         DIS        AAPL           V        ARKK   \n",
       "Date                                                                     \n",
       "2021-01-04  122.440002  174.729996  133.520004  220.250000  126.220001   \n",
       "2021-01-05  124.080002  176.199997  128.889999  216.309998  124.379997   \n",
       "2021-01-06  125.849998  177.279999  127.720001  213.800003  126.690002   \n",
       "2021-01-07  131.130005  177.580002  128.360001  212.199997  131.160004   \n",
       "2021-01-08  139.289993  176.600006  132.429993  214.169998  142.029999   \n",
       "\n",
       "Attributes                   Volume                                      \n",
       "Symbols            DIS         AAPL           V        ARKK         DIS  \n",
       "Date                                                                     \n",
       "2021-01-04  182.259995  143301900.0  10318300.0   8314400.0  13426600.0  \n",
       "2021-01-05  176.199997   97664900.0   6869700.0   5362200.0   7771800.0  \n",
       "2021-01-06  178.320007  155088000.0   7206200.0   6847500.0   7517800.0  \n",
       "2021-01-07  179.500000  109578200.0  10967900.0   8145100.0   7300800.0  \n",
       "2021-01-08  178.809998  105158200.0   6513000.0  12830300.0   7894500.0  \n",
       "\n",
       "[5 rows x 24 columns]"
      ]
     },
     "execution_count": 36,
     "metadata": {},
     "output_type": "execute_result"
    }
   ],
   "source": [
    "data.head()"
   ]
  },
  {
   "cell_type": "code",
   "execution_count": 37,
   "id": "71731ff4",
   "metadata": {},
   "outputs": [],
   "source": [
    "df = data['Adj Close']"
   ]
  },
  {
   "cell_type": "code",
   "execution_count": 50,
   "id": "2ef55d7f",
   "metadata": {},
   "outputs": [
    {
     "data": {
      "text/plain": [
       "<AxesSubplot:xlabel='Date'>"
      ]
     },
     "execution_count": 50,
     "metadata": {},
     "output_type": "execute_result"
    },
    {
     "data": {
      "image/png": "[encoded data removed]",
      "text/plain": [
       "<Figure size 432x288 with 1 Axes>"
      ]
     },
     "metadata": {
      "needs_background": "light"
     },
     "output_type": "display_data"
    }
   ],
   "source": [
    "df.plot()"
   ]
  },
  {
   "cell_type": "code",
   "execution_count": 56,
   "id": "a97585de",
   "metadata": {
    "scrolled": true
   },
   "outputs": [
    {
     "data": {
      "text/html": [
       "<div>\n",
       "<style scoped>\n",
       "    .dataframe tbody tr th:only-of-type {\n",
       "        vertical-align: middle;\n",
       "    }\n",
       "\n",
       "    .dataframe tbody tr th {\n",
       "        vertical-align: top;\n",
       "    }\n",
       "\n",
       "    .dataframe thead th {\n",
       "        text-align: right;\n",
       "    }\n",
       "</style>\n",
       "<table border=\"1\" class=\"dataframe\">\n",
       "  <thead>\n",
       "    <tr style=\"text-align: right;\">\n",
       "      <th>Symbols</th>\n",
       "      <th>AAPL</th>\n",
       "      <th>V</th>\n",
       "      <th>ARKK</th>\n",
       "      <th>DIS</th>\n",
       "    </tr>\n",
       "    <tr>\n",
       "      <th>Date</th>\n",
       "      <th></th>\n",
       "      <th></th>\n",
       "      <th></th>\n",
       "      <th></th>\n",
       "    </tr>\n",
       "  </thead>\n",
       "  <tbody>\n",
       "    <tr>\n",
       "      <th>2021-01-04</th>\n",
       "      <td>1.000000</td>\n",
       "      <td>1.000000</td>\n",
       "      <td>1.000000</td>\n",
       "      <td>1.000000</td>\n",
       "    </tr>\n",
       "    <tr>\n",
       "      <th>2021-01-05</th>\n",
       "      <td>1.012364</td>\n",
       "      <td>0.985075</td>\n",
       "      <td>1.024621</td>\n",
       "      <td>1.004277</td>\n",
       "    </tr>\n",
       "    <tr>\n",
       "      <th>2021-01-06</th>\n",
       "      <td>0.978286</td>\n",
       "      <td>0.976396</td>\n",
       "      <td>1.028390</td>\n",
       "      <td>1.008104</td>\n",
       "    </tr>\n",
       "    <tr>\n",
       "      <th>2021-01-07</th>\n",
       "      <td>1.011668</td>\n",
       "      <td>0.981861</td>\n",
       "      <td>1.109792</td>\n",
       "      <td>1.005065</td>\n",
       "    </tr>\n",
       "    <tr>\n",
       "      <th>2021-01-08</th>\n",
       "      <td>1.020400</td>\n",
       "      <td>0.989392</td>\n",
       "      <td>1.142674</td>\n",
       "      <td>1.005684</td>\n",
       "    </tr>\n",
       "    <tr>\n",
       "      <th>...</th>\n",
       "      <td>...</td>\n",
       "      <td>...</td>\n",
       "      <td>...</td>\n",
       "      <td>...</td>\n",
       "    </tr>\n",
       "    <tr>\n",
       "      <th>2021-08-26</th>\n",
       "      <td>1.145454</td>\n",
       "      <td>1.063228</td>\n",
       "      <td>0.955650</td>\n",
       "      <td>0.993697</td>\n",
       "    </tr>\n",
       "    <tr>\n",
       "      <th>2021-08-27</th>\n",
       "      <td>1.153684</td>\n",
       "      <td>1.073236</td>\n",
       "      <td>0.978667</td>\n",
       "      <td>1.013845</td>\n",
       "    </tr>\n",
       "    <tr>\n",
       "      <th>2021-08-30</th>\n",
       "      <td>1.188775</td>\n",
       "      <td>1.066502</td>\n",
       "      <td>0.984762</td>\n",
       "      <td>1.012945</td>\n",
       "    </tr>\n",
       "    <tr>\n",
       "      <th>2021-08-31</th>\n",
       "      <td>1.178760</td>\n",
       "      <td>1.056678</td>\n",
       "      <td>0.978667</td>\n",
       "      <td>1.020374</td>\n",
       "    </tr>\n",
       "    <tr>\n",
       "      <th>2021-09-01</th>\n",
       "      <td>1.184039</td>\n",
       "      <td>1.061383</td>\n",
       "      <td>0.992221</td>\n",
       "      <td>1.032643</td>\n",
       "    </tr>\n",
       "  </tbody>\n",
       "</table>\n",
       "<p>168 rows × 4 columns</p>\n",
       "</div>"
      ],
      "text/plain": [
       "Symbols         AAPL         V      ARKK       DIS\n",
       "Date                                              \n",
       "2021-01-04  1.000000  1.000000  1.000000  1.000000\n",
       "2021-01-05  1.012364  0.985075  1.024621  1.004277\n",
       "2021-01-06  0.978286  0.976396  1.028390  1.008104\n",
       "2021-01-07  1.011668  0.981861  1.109792  1.005065\n",
       "2021-01-08  1.020400  0.989392  1.142674  1.005684\n",
       "...              ...       ...       ...       ...\n",
       "2021-08-26  1.145454  1.063228  0.955650  0.993697\n",
       "2021-08-27  1.153684  1.073236  0.978667  1.013845\n",
       "2021-08-30  1.188775  1.066502  0.984762  1.012945\n",
       "2021-08-31  1.178760  1.056678  0.978667  1.020374\n",
       "2021-09-01  1.184039  1.061383  0.992221  1.032643\n",
       "\n",
       "[168 rows x 4 columns]"
      ]
     },
     "execution_count": 56,
     "metadata": {},
     "output_type": "execute_result"
    }
   ],
   "source": [
    "df/df.iloc[0]"
   ]
  },
  {
   "cell_type": "code",
   "execution_count": 57,
   "id": "c605b214",
   "metadata": {},
   "outputs": [
    {
     "data": {
      "image/png": "[encoded data removed]",
      "text/plain": [
       "<Figure size 432x288 with 1 Axes>"
      ]
     },
     "metadata": {
      "needs_background": "light"
     },
     "output_type": "display_data"
    }
   ],
   "source": [
    "(df/df.iloc[0]).plot();"
   ]
  },
  {
   "cell_type": "code",
   "execution_count": 44,
   "id": "9424ff23",
   "metadata": {},
   "outputs": [],
   "source": [
    "portfolio = [.5, .3, .2, .2]"
   ]
  },
  {
   "cell_type": "code",
   "execution_count": 45,
   "id": "6804fc22",
   "metadata": {},
   "outputs": [],
   "source": [
    "df1 = df/df.iloc[0]*10000*portfolio"
   ]
  },
  {
   "cell_type": "code",
   "execution_count": 55,
   "id": "49febf52",
   "metadata": {},
   "outputs": [
    {
     "data": {
      "text/html": [
       "<div>\n",
       "<style scoped>\n",
       "    .dataframe tbody tr th:only-of-type {\n",
       "        vertical-align: middle;\n",
       "    }\n",
       "\n",
       "    .dataframe tbody tr th {\n",
       "        vertical-align: top;\n",
       "    }\n",
       "\n",
       "    .dataframe thead th {\n",
       "        text-align: right;\n",
       "    }\n",
       "</style>\n",
       "<table border=\"1\" class=\"dataframe\">\n",
       "  <thead>\n",
       "    <tr style=\"text-align: right;\">\n",
       "      <th>Symbols</th>\n",
       "      <th>AAPL</th>\n",
       "      <th>V</th>\n",
       "      <th>ARKK</th>\n",
       "      <th>DIS</th>\n",
       "    </tr>\n",
       "    <tr>\n",
       "      <th>Date</th>\n",
       "      <th></th>\n",
       "      <th></th>\n",
       "      <th></th>\n",
       "      <th></th>\n",
       "    </tr>\n",
       "  </thead>\n",
       "  <tbody>\n",
       "    <tr>\n",
       "      <th>2021-01-04</th>\n",
       "      <td>5000.000000</td>\n",
       "      <td>3000.000000</td>\n",
       "      <td>2000.000000</td>\n",
       "      <td>2000.000000</td>\n",
       "    </tr>\n",
       "    <tr>\n",
       "      <th>2021-01-05</th>\n",
       "      <td>5061.817697</td>\n",
       "      <td>2955.225790</td>\n",
       "      <td>2049.242115</td>\n",
       "      <td>2008.554815</td>\n",
       "    </tr>\n",
       "    <tr>\n",
       "      <th>2021-01-06</th>\n",
       "      <td>4891.430023</td>\n",
       "      <td>2929.188067</td>\n",
       "      <td>2056.780708</td>\n",
       "      <td>2016.208943</td>\n",
       "    </tr>\n",
       "    <tr>\n",
       "      <th>2021-01-07</th>\n",
       "      <td>5058.340766</td>\n",
       "      <td>2945.582228</td>\n",
       "      <td>2219.584605</td>\n",
       "      <td>2010.130675</td>\n",
       "    </tr>\n",
       "    <tr>\n",
       "      <th>2021-01-08</th>\n",
       "      <td>5102.000829</td>\n",
       "      <td>2968.175717</td>\n",
       "      <td>2285.347549</td>\n",
       "      <td>2011.368863</td>\n",
       "    </tr>\n",
       "    <tr>\n",
       "      <th>...</th>\n",
       "      <td>...</td>\n",
       "      <td>...</td>\n",
       "      <td>...</td>\n",
       "      <td>...</td>\n",
       "    </tr>\n",
       "    <tr>\n",
       "      <th>2021-08-26</th>\n",
       "      <td>5727.269669</td>\n",
       "      <td>3189.682694</td>\n",
       "      <td>1911.300045</td>\n",
       "      <td>1987.393121</td>\n",
       "    </tr>\n",
       "    <tr>\n",
       "      <th>2021-08-27</th>\n",
       "      <td>5768.417693</td>\n",
       "      <td>3219.708746</td>\n",
       "      <td>1957.334131</td>\n",
       "      <td>2027.690306</td>\n",
       "    </tr>\n",
       "    <tr>\n",
       "      <th>2021-08-30</th>\n",
       "      <td>5943.876533</td>\n",
       "      <td>3199.506776</td>\n",
       "      <td>1969.524397</td>\n",
       "      <td>2025.889274</td>\n",
       "    </tr>\n",
       "    <tr>\n",
       "      <th>2021-08-31</th>\n",
       "      <td>5893.801029</td>\n",
       "      <td>3170.034318</td>\n",
       "      <td>1957.334131</td>\n",
       "      <td>2040.747530</td>\n",
       "    </tr>\n",
       "    <tr>\n",
       "      <th>2021-09-01</th>\n",
       "      <td>5920.197272</td>\n",
       "      <td>3184.147806</td>\n",
       "      <td>1984.441395</td>\n",
       "      <td>2065.285944</td>\n",
       "    </tr>\n",
       "  </tbody>\n",
       "</table>\n",
       "<p>168 rows × 4 columns</p>\n",
       "</div>"
      ],
      "text/plain": [
       "Symbols            AAPL            V         ARKK          DIS\n",
       "Date                                                          \n",
       "2021-01-04  5000.000000  3000.000000  2000.000000  2000.000000\n",
       "2021-01-05  5061.817697  2955.225790  2049.242115  2008.554815\n",
       "2021-01-06  4891.430023  2929.188067  2056.780708  2016.208943\n",
       "2021-01-07  5058.340766  2945.582228  2219.584605  2010.130675\n",
       "2021-01-08  5102.000829  2968.175717  2285.347549  2011.368863\n",
       "...                 ...          ...          ...          ...\n",
       "2021-08-26  5727.269669  3189.682694  1911.300045  1987.393121\n",
       "2021-08-27  5768.417693  3219.708746  1957.334131  2027.690306\n",
       "2021-08-30  5943.876533  3199.506776  1969.524397  2025.889274\n",
       "2021-08-31  5893.801029  3170.034318  1957.334131  2040.747530\n",
       "2021-09-01  5920.197272  3184.147806  1984.441395  2065.285944\n",
       "\n",
       "[168 rows x 4 columns]"
      ]
     },
     "execution_count": 55,
     "metadata": {},
     "output_type": "execute_result"
    }
   ],
   "source": [
    "df1"
   ]
  },
  {
   "cell_type": "code",
   "execution_count": 47,
   "id": "61eb1072",
   "metadata": {},
   "outputs": [
    {
     "data": {
      "text/plain": [
       "0.3154072417862048"
      ]
     },
     "execution_count": 47,
     "metadata": {},
     "output_type": "execute_result"
    }
   ],
   "source": [
    "(df1.iloc[-1].sum()-10000)/10000"
   ]
  },
  {
   "cell_type": "code",
   "execution_count": 49,
   "id": "d2a91f07",
   "metadata": {},
   "outputs": [
    {
     "data": {
      "text/plain": [
       "Symbols\n",
       "AAPL    0.184039\n",
       "V       0.061383\n",
       "ARKK   -0.007779\n",
       "DIS     0.032643\n",
       "dtype: float64"
      ]
     },
     "execution_count": 49,
     "metadata": {},
     "output_type": "execute_result"
    }
   ],
   "source": [
    "# see each stock performance\n",
    "(df1.iloc[-1]-df1.iloc[0])/df1.iloc[0]"
   ]
  },
  {
   "cell_type": "markdown",
   "id": "53979cc7",
   "metadata": {},
   "source": [
    "### Random number for the portfolio"
   ]
  },
  {
   "cell_type": "code",
   "execution_count": 60,
   "id": "2663578e",
   "metadata": {},
   "outputs": [],
   "source": [
    "weight = np.random.random(4)"
   ]
  },
  {
   "cell_type": "code",
   "execution_count": 62,
   "id": "5ca2c8ee",
   "metadata": {},
   "outputs": [
    {
     "data": {
      "text/plain": [
       "2.178171877798061"
      ]
     },
     "execution_count": 62,
     "metadata": {},
     "output_type": "execute_result"
    }
   ],
   "source": [
    "weight.sum()"
   ]
  },
  {
   "cell_type": "code",
   "execution_count": 64,
   "id": "72c7854b",
   "metadata": {},
   "outputs": [],
   "source": [
    "weight/=weight.sum()"
   ]
  },
  {
   "cell_type": "code",
   "execution_count": 65,
   "id": "eb385a4c",
   "metadata": {},
   "outputs": [
    {
     "data": {
      "text/plain": [
       "1.0"
      ]
     },
     "execution_count": 65,
     "metadata": {},
     "output_type": "execute_result"
    }
   ],
   "source": [
    "np.sum(weight)"
   ]
  },
  {
   "cell_type": "code",
   "execution_count": null,
   "id": "c3030a27",
   "metadata": {},
   "outputs": [],
   "source": []
  }
 ],
 "metadata": {
  "kernelspec": {
   "display_name": "Python 3",
   "language": "python",
   "name": "python3"
  },
  "language_info": {
   "codemirror_mode": {
    "name": "ipython",
    "version": 3
   },
   "file_extension": ".py",
   "mimetype": "text/x-python",
   "name": "python",
   "nbconvert_exporter": "python",
   "pygments_lexer": "ipython3",
   "version": "3.8.8"
  }
 },
 "nbformat": 4,
 "nbformat_minor": 5
}
